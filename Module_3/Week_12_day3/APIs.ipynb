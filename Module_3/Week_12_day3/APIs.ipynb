{
 "cells": [
  {
   "cell_type": "code",
   "execution_count": 2,
   "metadata": {},
   "outputs": [],
   "source": [
    "#to install requests do in terminal: conda install requests\n",
    "import requests"
   ]
  },
  {
   "cell_type": "code",
   "execution_count": 4,
   "metadata": {},
   "outputs": [],
   "source": [
    "response = requests.get(\"https://swapi.dev/api/people/1\")"
   ]
  },
  {
   "cell_type": "code",
   "execution_count": 6,
   "metadata": {},
   "outputs": [
    {
     "data": {
      "text/plain": [
       "200"
      ]
     },
     "execution_count": 6,
     "metadata": {},
     "output_type": "execute_result"
    }
   ],
   "source": [
    "response.status_code"
   ]
  },
  {
   "cell_type": "code",
   "execution_count": 7,
   "metadata": {},
   "outputs": [
    {
     "data": {
      "text/plain": [
       "'Luke Skywalker'"
      ]
     },
     "execution_count": 7,
     "metadata": {},
     "output_type": "execute_result"
    }
   ],
   "source": [
    "response.json()[\"name\"]"
   ]
  },
  {
   "cell_type": "code",
   "execution_count": 11,
   "metadata": {},
   "outputs": [],
   "source": [
    "response_films = requests.get(\"https://swapi.dev/api/films\")"
   ]
  },
  {
   "cell_type": "code",
   "execution_count": 13,
   "metadata": {},
   "outputs": [
    {
     "data": {
      "text/plain": [
       "200"
      ]
     },
     "execution_count": 13,
     "metadata": {},
     "output_type": "execute_result"
    }
   ],
   "source": [
    "response_films.status_code"
   ]
  },
  {
   "cell_type": "code",
   "execution_count": 15,
   "metadata": {},
   "outputs": [
    {
     "data": {
      "text/plain": [
       "{'title': 'A New Hope',\n",
       " 'episode_id': 4,\n",
       " 'opening_crawl': \"It is a period of civil war.\\r\\nRebel spaceships, striking\\r\\nfrom a hidden base, have won\\r\\ntheir first victory against\\r\\nthe evil Galactic Empire.\\r\\n\\r\\nDuring the battle, Rebel\\r\\nspies managed to steal secret\\r\\nplans to the Empire's\\r\\nultimate weapon, the DEATH\\r\\nSTAR, an armored space\\r\\nstation with enough power\\r\\nto destroy an entire planet.\\r\\n\\r\\nPursued by the Empire's\\r\\nsinister agents, Princess\\r\\nLeia races home aboard her\\r\\nstarship, custodian of the\\r\\nstolen plans that can save her\\r\\npeople and restore\\r\\nfreedom to the galaxy....\",\n",
       " 'director': 'George Lucas',\n",
       " 'producer': 'Gary Kurtz, Rick McCallum',\n",
       " 'release_date': '1977-05-25',\n",
       " 'characters': ['http://swapi.dev/api/people/1/',\n",
       "  'http://swapi.dev/api/people/2/',\n",
       "  'http://swapi.dev/api/people/3/',\n",
       "  'http://swapi.dev/api/people/4/',\n",
       "  'http://swapi.dev/api/people/5/',\n",
       "  'http://swapi.dev/api/people/6/',\n",
       "  'http://swapi.dev/api/people/7/',\n",
       "  'http://swapi.dev/api/people/8/',\n",
       "  'http://swapi.dev/api/people/9/',\n",
       "  'http://swapi.dev/api/people/10/',\n",
       "  'http://swapi.dev/api/people/12/',\n",
       "  'http://swapi.dev/api/people/13/',\n",
       "  'http://swapi.dev/api/people/14/',\n",
       "  'http://swapi.dev/api/people/15/',\n",
       "  'http://swapi.dev/api/people/16/',\n",
       "  'http://swapi.dev/api/people/18/',\n",
       "  'http://swapi.dev/api/people/19/',\n",
       "  'http://swapi.dev/api/people/81/'],\n",
       " 'planets': ['http://swapi.dev/api/planets/1/',\n",
       "  'http://swapi.dev/api/planets/2/',\n",
       "  'http://swapi.dev/api/planets/3/'],\n",
       " 'starships': ['http://swapi.dev/api/starships/2/',\n",
       "  'http://swapi.dev/api/starships/3/',\n",
       "  'http://swapi.dev/api/starships/5/',\n",
       "  'http://swapi.dev/api/starships/9/',\n",
       "  'http://swapi.dev/api/starships/10/',\n",
       "  'http://swapi.dev/api/starships/11/',\n",
       "  'http://swapi.dev/api/starships/12/',\n",
       "  'http://swapi.dev/api/starships/13/'],\n",
       " 'vehicles': ['http://swapi.dev/api/vehicles/4/',\n",
       "  'http://swapi.dev/api/vehicles/6/',\n",
       "  'http://swapi.dev/api/vehicles/7/',\n",
       "  'http://swapi.dev/api/vehicles/8/'],\n",
       " 'species': ['http://swapi.dev/api/species/1/',\n",
       "  'http://swapi.dev/api/species/2/',\n",
       "  'http://swapi.dev/api/species/3/',\n",
       "  'http://swapi.dev/api/species/4/',\n",
       "  'http://swapi.dev/api/species/5/'],\n",
       " 'created': '2014-12-10T14:23:31.880000Z',\n",
       " 'edited': '2014-12-20T19:49:45.256000Z',\n",
       " 'url': 'http://swapi.dev/api/films/1/'}"
      ]
     },
     "execution_count": 15,
     "metadata": {},
     "output_type": "execute_result"
    }
   ],
   "source": [
    "response_films.json()[\"results\"][0]"
   ]
  },
  {
   "cell_type": "code",
   "execution_count": null,
   "metadata": {},
   "outputs": [],
   "source": []
  }
 ],
 "metadata": {
  "kernelspec": {
   "display_name": "Python 3",
   "language": "python",
   "name": "python3"
  },
  "language_info": {
   "codemirror_mode": {
    "name": "ipython",
    "version": 3
   },
   "file_extension": ".py",
   "mimetype": "text/x-python",
   "name": "python",
   "nbconvert_exporter": "python",
   "pygments_lexer": "ipython3",
   "version": "3.7.6"
  }
 },
 "nbformat": 4,
 "nbformat_minor": 4
}
